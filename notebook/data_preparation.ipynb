{
 "cells": [
  {
   "cell_type": "markdown",
   "metadata": {},
   "source": [
    "## **Load Data**\n",
    "---------\n",
    "\n",
    "**These descriptions provide an explanation of each column in the dataset:**\n",
    "\n",
    "- **person_age** : Age\n",
    "- **person_income** : Annual income\n",
    "- **person_home_ownership** : Type of home ownership [Rent, Mortgage, Own, Other]\n",
    "- **person_emp_length** : Employment length (in years)\n",
    "- **loan_intent** : Intent behind loan\n",
    "- **loan_grade** : Loan grade based on credit [A-G]\n",
    "- **loan_amnt** : Loan amount\n",
    "- **loan_int_rate** : Interest rate for the loan\n",
    "- **loan_status** : Loan status [0 is non default 1 is default]\n",
    "- **loan_percent_income** : Percentage of income\n",
    "- **cb_person_default_on_file** : Historical default [Y, N]\n",
    "- **cb_preson_cred_hist_length** : Credit history length"
   ]
  },
  {
   "cell_type": "code",
   "execution_count": 1,
   "metadata": {},
   "outputs": [],
   "source": [
    "#load library and configuration\n",
    "import pandas as pd \n",
    "import sys\n",
    "\n",
    "#append a specific path to the system path\n",
    "sys.path.append(\"../src\")"
   ]
  },
  {
   "cell_type": "code",
   "execution_count": 2,
   "metadata": {},
   "outputs": [],
   "source": [
    "#import the 'utils' module which contains utility functions\n",
    "import utils"
   ]
  },
  {
   "cell_type": "code",
   "execution_count": 3,
   "metadata": {},
   "outputs": [
    {
     "data": {
      "text/plain": [
       "{'raw_dataset_path': '../dataset/raw/credit_risk.csv',\n",
       " 'dataset_path': '../dataset/output/data.pkl',\n",
       " 'predictors_set_path': '../dataset/output/predictors.pkl',\n",
       " 'response_set_path': '../dataset/output/response.pkl',\n",
       " 'train_path': ['../dataset/output/X_train.pkl',\n",
       "  '../dataset/output/y_train.pkl'],\n",
       " 'test_path': ['../dataset/output/X_test.pkl', '../dataset/output/y_test.pkl'],\n",
       " 'data_train_path': '../dataset/output/training_data.pkl',\n",
       " 'data_train_binned_path': '../dataset/output/bin_training_data.pkl',\n",
       " 'crosstab_list_path': '../dataset/output/list_crosstab.pkl',\n",
       " 'WOE_table_path': '../dataset/output/WOE_table.pkl',\n",
       " 'IV_table_path': '../dataset/output/IV_table.pkl',\n",
       " 'WOE_map_dict_path': '../dataset/output/WOE_map_dict.pkl',\n",
       " 'X_train_woe_path': '../dataset/output/X_train_woe.pkl',\n",
       " 'response_variable': 'loan_status',\n",
       " 'test_size': 0.2,\n",
       " 'num_columns': ['person_age',\n",
       "  'person_income',\n",
       "  'person_emp_length',\n",
       "  'loan_amnt',\n",
       "  'loan_int_rate',\n",
       "  'loan_percent_income',\n",
       "  'cb_person_cred_hist_length'],\n",
       " 'cat_columns': ['person_home_ownership',\n",
       "  'loan_intent',\n",
       "  'cb_person_default_on_file'],\n",
       " 'missing_columns': ['person_emp_length_bin', 'loan_int_rate_bin'],\n",
       " 'num_of_bins': 5,\n",
       " 'penalty': 'l2',\n",
       " 'num_of_cv': 10,\n",
       " 'scoring': 'recall',\n",
       " 'forward_models_path': 'models/forward_models.pkl',\n",
       " 'best_predictors_path': 'models/best_predictors_path.pkl',\n",
       " 'best_model_path': 'models/best_model.pkl',\n",
       " 'best_model_summary_path': 'models/best_model_summary.pkl',\n",
       " 'pdo': 20,\n",
       " 'score_ref': 300,\n",
       " 'odds_ref': 30,\n",
       " 'scorecards_path': 'models/scorecards.pkl',\n",
       " 'points_map_dict_path': 'models/points_map_dict.pkl',\n",
       " 'X_points_path': 'models/X_points.pkl',\n",
       " 'X_train_points_path': 'models/X_train_points.pkl',\n",
       " 'score_path': 'models/score_path.pkl',\n",
       " 'cutoff_score': 150,\n",
       " 'columns_': ['person_age_bin',\n",
       "  'person_income_bin',\n",
       "  'person_emp_length_bin',\n",
       "  'loan_amnt_bin',\n",
       "  'loan_int_rate_bin',\n",
       "  'loan_percent_income_bin',\n",
       "  'cb_person_cred_hist_length_bin',\n",
       "  'person_home_ownership',\n",
       "  'loan_intent',\n",
       "  'cb_person_default_on_file']}"
      ]
     },
     "execution_count": 3,
     "metadata": {},
     "output_type": "execute_result"
    }
   ],
   "source": [
    "#load configuration or data using 'config_load()' function from the 'utils' module\n",
    "config_data = utils.config_load()\n",
    "#display the loaded configuration data\n",
    "config_data"
   ]
  },
  {
   "cell_type": "code",
   "execution_count": 4,
   "metadata": {},
   "outputs": [],
   "source": [
    "def read_data():\n",
    "    \"\"\"Load data and dump data\"\"\"\n",
    "\n",
    "    # Load data\n",
    "    data_path = config_data['raw_dataset_path']\n",
    "    data = pd.read_csv(data_path)\n",
    "\n",
    "    # Validate data shape\n",
    "    print(\"Data shape       :\", data.shape)\n",
    "\n",
    "    # Pickle dumping (save the result)\n",
    "    dump_path = config_data['dataset_path']\n",
    "    utils.pickle_dump(data, dump_path)\n",
    "\n",
    "    return data"
   ]
  },
  {
   "cell_type": "code",
   "execution_count": 5,
   "metadata": {},
   "outputs": [
    {
     "name": "stdout",
     "output_type": "stream",
     "text": [
      "Data shape       : (32581, 11)\n"
     ]
    },
    {
     "data": {
      "text/html": [
       "<div>\n",
       "<style scoped>\n",
       "    .dataframe tbody tr th:only-of-type {\n",
       "        vertical-align: middle;\n",
       "    }\n",
       "\n",
       "    .dataframe tbody tr th {\n",
       "        vertical-align: top;\n",
       "    }\n",
       "\n",
       "    .dataframe thead th {\n",
       "        text-align: right;\n",
       "    }\n",
       "</style>\n",
       "<table border=\"1\" class=\"dataframe\">\n",
       "  <thead>\n",
       "    <tr style=\"text-align: right;\">\n",
       "      <th></th>\n",
       "      <th>person_age</th>\n",
       "      <th>person_income</th>\n",
       "      <th>person_home_ownership</th>\n",
       "      <th>person_emp_length</th>\n",
       "      <th>loan_intent</th>\n",
       "      <th>loan_amnt</th>\n",
       "      <th>loan_int_rate</th>\n",
       "      <th>loan_status</th>\n",
       "      <th>loan_percent_income</th>\n",
       "      <th>cb_person_default_on_file</th>\n",
       "      <th>cb_person_cred_hist_length</th>\n",
       "    </tr>\n",
       "  </thead>\n",
       "  <tbody>\n",
       "    <tr>\n",
       "      <th>0</th>\n",
       "      <td>22</td>\n",
       "      <td>59000</td>\n",
       "      <td>RENT</td>\n",
       "      <td>123.0</td>\n",
       "      <td>PERSONAL</td>\n",
       "      <td>35000</td>\n",
       "      <td>16.02</td>\n",
       "      <td>1</td>\n",
       "      <td>0.59</td>\n",
       "      <td>Y</td>\n",
       "      <td>3</td>\n",
       "    </tr>\n",
       "    <tr>\n",
       "      <th>1</th>\n",
       "      <td>21</td>\n",
       "      <td>9600</td>\n",
       "      <td>OWN</td>\n",
       "      <td>5.0</td>\n",
       "      <td>EDUCATION</td>\n",
       "      <td>1000</td>\n",
       "      <td>11.14</td>\n",
       "      <td>0</td>\n",
       "      <td>0.10</td>\n",
       "      <td>N</td>\n",
       "      <td>2</td>\n",
       "    </tr>\n",
       "    <tr>\n",
       "      <th>2</th>\n",
       "      <td>25</td>\n",
       "      <td>9600</td>\n",
       "      <td>MORTGAGE</td>\n",
       "      <td>1.0</td>\n",
       "      <td>MEDICAL</td>\n",
       "      <td>5500</td>\n",
       "      <td>12.87</td>\n",
       "      <td>1</td>\n",
       "      <td>0.57</td>\n",
       "      <td>N</td>\n",
       "      <td>3</td>\n",
       "    </tr>\n",
       "    <tr>\n",
       "      <th>3</th>\n",
       "      <td>23</td>\n",
       "      <td>65500</td>\n",
       "      <td>RENT</td>\n",
       "      <td>4.0</td>\n",
       "      <td>MEDICAL</td>\n",
       "      <td>35000</td>\n",
       "      <td>15.23</td>\n",
       "      <td>1</td>\n",
       "      <td>0.53</td>\n",
       "      <td>N</td>\n",
       "      <td>2</td>\n",
       "    </tr>\n",
       "    <tr>\n",
       "      <th>4</th>\n",
       "      <td>24</td>\n",
       "      <td>54400</td>\n",
       "      <td>RENT</td>\n",
       "      <td>8.0</td>\n",
       "      <td>MEDICAL</td>\n",
       "      <td>35000</td>\n",
       "      <td>14.27</td>\n",
       "      <td>1</td>\n",
       "      <td>0.55</td>\n",
       "      <td>Y</td>\n",
       "      <td>4</td>\n",
       "    </tr>\n",
       "  </tbody>\n",
       "</table>\n",
       "</div>"
      ],
      "text/plain": [
       "   person_age  person_income person_home_ownership  person_emp_length  \\\n",
       "0          22          59000                  RENT              123.0   \n",
       "1          21           9600                   OWN                5.0   \n",
       "2          25           9600              MORTGAGE                1.0   \n",
       "3          23          65500                  RENT                4.0   \n",
       "4          24          54400                  RENT                8.0   \n",
       "\n",
       "  loan_intent  loan_amnt  loan_int_rate  loan_status  loan_percent_income  \\\n",
       "0    PERSONAL      35000          16.02            1                 0.59   \n",
       "1   EDUCATION       1000          11.14            0                 0.10   \n",
       "2     MEDICAL       5500          12.87            1                 0.57   \n",
       "3     MEDICAL      35000          15.23            1                 0.53   \n",
       "4     MEDICAL      35000          14.27            1                 0.55   \n",
       "\n",
       "  cb_person_default_on_file  cb_person_cred_hist_length  \n",
       "0                         Y                           3  \n",
       "1                         N                           2  \n",
       "2                         N                           3  \n",
       "3                         N                           2  \n",
       "4                         Y                           4  "
      ]
     },
     "execution_count": 5,
     "metadata": {},
     "output_type": "execute_result"
    }
   ],
   "source": [
    "#load the dataset and display\n",
    "data = read_data()\n",
    "data.head()"
   ]
  },
  {
   "cell_type": "markdown",
   "metadata": {},
   "source": [
    "### **Sample Splitting**\n",
    "---"
   ]
  },
  {
   "cell_type": "markdown",
   "metadata": {},
   "source": [
    "- Split input & output data and dump them\n",
    "- Update the config file to contain\n",
    "    - The input & output data path\n",
    "    - The output variable name\n",
    "    - The input columns name"
   ]
  },
  {
   "cell_type": "code",
   "execution_count": 7,
   "metadata": {},
   "outputs": [
    {
     "data": {
      "text/plain": [
       "0    0.781836\n",
       "1    0.218164\n",
       "Name: loan_status, dtype: float64"
      ]
     },
     "execution_count": 7,
     "metadata": {},
     "output_type": "execute_result"
    }
   ],
   "source": [
    "# Define response variable\n",
    "response_variable = 'loan_status'\n",
    "\n",
    "# Check the proportion of response variable\n",
    "data[response_variable].value_counts(normalize = True)"
   ]
  },
  {
   "cell_type": "markdown",
   "metadata": {},
   "source": [
    "The proportion of the response variable, `loan_status`, is not quite balanced (in a ratio of 78:22).\n",
    "\n",
    "To get the same ratio in training and testing set, define a stratified splitting based on the response variable, `loan_status`."
   ]
  },
  {
   "cell_type": "code",
   "execution_count": 8,
   "metadata": {},
   "outputs": [],
   "source": [
    "def splitting_data(data):\n",
    "    \"\"\"\n",
    "    Split the dataset into predictor variables (X) and the response variable (y)\n",
    "\n",
    "    Parameters\n",
    "    ----------\n",
    "    data : DataFrame\n",
    "        The dataset containing both predictor and response variable\n",
    "\n",
    "    Returns\n",
    "    -------\n",
    "    X : DataFrame\n",
    "        Predictor variables (feature)\n",
    "    y : Series\n",
    "        Response variable\n",
    "\n",
    "    This function takes a dataset and separate it into predictor variables (X) and response variable (y)\n",
    "    It also saves the predictor variables and response variable to pickle files\n",
    "    \"\"\"\n",
    "\n",
    "    #define response variable\n",
    "    response_variable = config_data['response_variable']\n",
    "    \n",
    "    #extract the response variable (y) from dataset\n",
    "    y = data[response_variable]\n",
    "\n",
    "    #extract the predictor variables (X)\n",
    "    X = data.drop(columns = [response_variable],\n",
    "                  axis = 1)\n",
    "    \n",
    "    #display the shape of X and y \n",
    "    print('y shape :', y.shape)\n",
    "    print('X shape :', X.shape)\n",
    "\n",
    "    #save the predictor variable (X) to a pickle file\n",
    "    dump_path_predictors = config_data['predictors_set_path']\n",
    "    utils.pickle_dump(X, dump_path_predictors)\n",
    "\n",
    "    #save the response variable (y) to a pickle file\n",
    "    dump_path_response = config_data['response_set_path']    \n",
    "    utils.pickle_dump(y, dump_path_response)\n",
    "    \n",
    "    return X, y"
   ]
  },
  {
   "cell_type": "code",
   "execution_count": 10,
   "metadata": {},
   "outputs": [
    {
     "name": "stdout",
     "output_type": "stream",
     "text": [
      "y shape : (32581,)\n",
      "X shape : (32581, 10)\n"
     ]
    }
   ],
   "source": [
    "X, y = splitting_data(data)"
   ]
  },
  {
   "cell_type": "markdown",
   "metadata": {},
   "source": [
    "Split training and testing from each predictors (X) and response variable (y)\n",
    "\n",
    "- Set stratify = y for splitting the sample with stratify, based on the proportion of response y.\n",
    "- Set test_size = 0.2 for holding 20% of the sample as a testing set.\n",
    "- Set random_state = 42 for reproducibility."
   ]
  },
  {
   "cell_type": "code",
   "execution_count": 11,
   "metadata": {},
   "outputs": [],
   "source": [
    "#import library \n",
    "from sklearn.model_selection import train_test_split"
   ]
  },
  {
   "cell_type": "markdown",
   "metadata": {},
   "source": [
    "Update the config file to have train & test data path and test size."
   ]
  },
  {
   "cell_type": "code",
   "execution_count": 12,
   "metadata": {},
   "outputs": [
    {
     "data": {
      "text/plain": [
       "{'raw_dataset_path': '../dataset/raw/credit_risk.csv',\n",
       " 'dataset_path': '../dataset/output/data.pkl',\n",
       " 'predictors_set_path': '../dataset/output/predictors.pkl',\n",
       " 'response_set_path': '../dataset/output/response.pkl',\n",
       " 'train_path': ['../dataset/output/X_train.pkl',\n",
       "  '../dataset/output/y_train.pkl'],\n",
       " 'test_path': ['../dataset/output/X_test.pkl', '../dataset/output/y_test.pkl'],\n",
       " 'data_train_path': '../dataset/output/training_data.pkl',\n",
       " 'data_train_binned_path': '../dataset/output/bin_training_data.pkl',\n",
       " 'crosstab_list_path': '../dataset/output/list_crosstab.pkl',\n",
       " 'WOE_table_path': '../dataset/output/WOE_table.pkl',\n",
       " 'IV_table_path': '../dataset/output/IV_table.pkl',\n",
       " 'WOE_map_dict_path': '../dataset/output/WOE_map_dict.pkl',\n",
       " 'X_train_woe_path': '../dataset/output/X_train_woe.pkl',\n",
       " 'response_variable': 'loan_status',\n",
       " 'test_size': 0.2,\n",
       " 'num_columns': ['person_age',\n",
       "  'person_income',\n",
       "  'person_emp_length',\n",
       "  'loan_amnt',\n",
       "  'loan_int_rate',\n",
       "  'loan_percent_income',\n",
       "  'cb_person_cred_hist_length'],\n",
       " 'cat_columns': ['person_home_ownership',\n",
       "  'loan_intent',\n",
       "  'cb_person_default_on_file'],\n",
       " 'missing_columns': ['person_emp_length_bin', 'loan_int_rate_bin'],\n",
       " 'num_of_bins': 5,\n",
       " 'penalty': 'l2',\n",
       " 'num_of_cv': 10,\n",
       " 'scoring': 'recall',\n",
       " 'forward_models_path': 'models/forward_models.pkl',\n",
       " 'best_predictors_path': 'models/best_predictors_path.pkl',\n",
       " 'best_model_path': 'models/best_model.pkl',\n",
       " 'best_model_summary_path': 'models/best_model_summary.pkl',\n",
       " 'pdo': 20,\n",
       " 'score_ref': 300,\n",
       " 'odds_ref': 30,\n",
       " 'scorecards_path': 'models/scorecards.pkl',\n",
       " 'points_map_dict_path': 'models/points_map_dict.pkl',\n",
       " 'X_points_path': 'models/X_points.pkl',\n",
       " 'X_train_points_path': 'models/X_train_points.pkl',\n",
       " 'score_path': 'models/score_path.pkl',\n",
       " 'cutoff_score': 150,\n",
       " 'columns_': ['person_age_bin',\n",
       "  'person_income_bin',\n",
       "  'person_emp_length_bin',\n",
       "  'loan_amnt_bin',\n",
       "  'loan_int_rate_bin',\n",
       "  'loan_percent_income_bin',\n",
       "  'cb_person_cred_hist_length_bin',\n",
       "  'person_home_ownership',\n",
       "  'loan_intent',\n",
       "  'cb_person_default_on_file']}"
      ]
     },
     "execution_count": 12,
     "metadata": {},
     "output_type": "execute_result"
    }
   ],
   "source": [
    "config_data = utils.config_load()\n",
    "config_data"
   ]
  },
  {
   "cell_type": "code",
   "execution_count": 13,
   "metadata": {},
   "outputs": [],
   "source": [
    "def split_train_test():\n",
    "    \"\"\"\n",
    "    Split the dataset into training and testing\n",
    "\n",
    "    Returns\n",
    "    -------\n",
    "    X_train : pd.DataFrame\n",
    "        Training predictor variables\n",
    "    X_test : pd.DataFrame\n",
    "        Testing predictor variables\n",
    "    y_train : pd.Series\n",
    "        Training response variable\n",
    "    y_test : pd.Series\n",
    "        Testing response variable\n",
    "    \"\"\"\n",
    "    \n",
    "    #load the X and y\n",
    "    X = utils.pickle_load(config_data['predictors_set_path'])\n",
    "    y = utils.pickle_load(config_data['response_set_path'])\n",
    "\n",
    "    #split the data\n",
    "    X_train, X_test, y_train, y_test = train_test_split(X,\n",
    "                                                        y,\n",
    "                                                        stratify = y,\n",
    "                                                        test_size = config_data['test_size'],\n",
    "                                                        random_state = 42)\n",
    "    #validate splitting\n",
    "    print('X_train shape :', X_train.shape)\n",
    "    print('y_train shape :', y_train.shape)\n",
    "    print('X_test shape  :', X_test.shape)\n",
    "    print('y_test shape  :', y_test.shape)\n",
    "\n",
    "    #dump data\n",
    "    utils.pickle_dump(X_train, config_data['train_path'][0])\n",
    "    utils.pickle_dump(y_train, config_data['train_path'][1])\n",
    "    utils.pickle_dump(X_test, config_data['test_path'][0])\n",
    "    utils.pickle_dump(y_test, config_data['test_path'][1])\n",
    "\n",
    "    return X_train, X_test, y_train, y_test"
   ]
  },
  {
   "cell_type": "code",
   "execution_count": 14,
   "metadata": {},
   "outputs": [
    {
     "name": "stdout",
     "output_type": "stream",
     "text": [
      "X_train shape : (26064, 10)\n",
      "y_train shape : (26064,)\n",
      "X_test shape  : (6517, 10)\n",
      "y_test shape  : (6517,)\n"
     ]
    }
   ],
   "source": [
    "#check the function\n",
    "X_train, X_test, y_train, y_test = split_train_test()"
   ]
  },
  {
   "cell_type": "markdown",
   "metadata": {},
   "source": [
    "Check proportion of response variable default in each training and testing set."
   ]
  },
  {
   "cell_type": "code",
   "execution_count": 15,
   "metadata": {},
   "outputs": [
    {
     "data": {
      "text/plain": [
       "0    0.781845\n",
       "1    0.218155\n",
       "Name: loan_status, dtype: float64"
      ]
     },
     "execution_count": 15,
     "metadata": {},
     "output_type": "execute_result"
    }
   ],
   "source": [
    "#check proportion of target variable on data training\n",
    "y_train.value_counts(normalize = True)"
   ]
  },
  {
   "cell_type": "code",
   "execution_count": 16,
   "metadata": {},
   "outputs": [
    {
     "data": {
      "text/plain": [
       "0    0.781801\n",
       "1    0.218199\n",
       "Name: loan_status, dtype: float64"
      ]
     },
     "execution_count": 16,
     "metadata": {},
     "output_type": "execute_result"
    }
   ],
   "source": [
    "#check proportion of target variable on data testing\n",
    "y_test.value_counts(normalize = True)"
   ]
  },
  {
   "cell_type": "code",
   "execution_count": null,
   "metadata": {},
   "outputs": [],
   "source": []
  }
 ],
 "metadata": {
  "kernelspec": {
   "display_name": "base",
   "language": "python",
   "name": "python3"
  },
  "language_info": {
   "codemirror_mode": {
    "name": "ipython",
    "version": 3
   },
   "file_extension": ".py",
   "mimetype": "text/x-python",
   "name": "python",
   "nbconvert_exporter": "python",
   "pygments_lexer": "ipython3",
   "version": "3.9.13"
  },
  "orig_nbformat": 4
 },
 "nbformat": 4,
 "nbformat_minor": 2
}
